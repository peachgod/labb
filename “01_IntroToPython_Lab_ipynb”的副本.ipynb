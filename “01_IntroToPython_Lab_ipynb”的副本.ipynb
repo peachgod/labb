{
  "nbformat": 4,
  "nbformat_minor": 0,
  "metadata": {
    "colab": {
      "name": "“01-IntroToPython_Lab.ipynb”的副本",
      "provenance": [],
      "collapsed_sections": [],
      "include_colab_link": true
    },
    "kernelspec": {
      "name": "python3",
      "display_name": "Python 3"
    }
  },
  "cells": [
    {
      "cell_type": "markdown",
      "metadata": {
        "id": "view-in-github",
        "colab_type": "text"
      },
      "source": [
        "<a href=\"https://colab.research.google.com/github/peachgod/labb/blob/main/%E2%80%9C01_IntroToPython_Lab_ipynb%E2%80%9D%E7%9A%84%E5%89%AF%E6%9C%AC.ipynb\" target=\"_parent\"><img src=\"https://colab.research.google.com/assets/colab-badge.svg\" alt=\"Open In Colab\"/></a>"
      ]
    },
    {
      "cell_type": "markdown",
      "metadata": {
        "id": "lhtWbX1WT5DB"
      },
      "source": [
        "# Intro to Python Lab\n",
        "1.   make a new private github project\n",
        "2.   Save this notebook to a that project\n",
        "3.   Answer the following python questions.\n",
        "4.   Then push the new version of this document to your github project\n",
        "5.   Share your github repository with one person from the class, ask them to share their repository with you too. \n",
        "6.   Check each other's code\n",
        "3.   At the end of the notebook of your peer, add a new Text Cell writing \"Well done!!\" and push it to their repository\n",
        "\n",
        "## WELL DONE!"
      ]
    },
    {
      "cell_type": "code",
      "metadata": {
        "id": "KtoaviMXUC5I"
      },
      "source": [
        "# STARTER CODE:\n",
        "x = \"Coding in python is so much fun! Python will be my new superpower!\"\n",
        "y = 3\n",
        "z = 3.0\n"
      ],
      "execution_count": null,
      "outputs": []
    },
    {
      "cell_type": "code",
      "metadata": {
        "id": "qRuImhtaTqqi",
        "colab": {
          "base_uri": "https://localhost:8080/"
        },
        "outputId": "1a3a110d-8d6f-4b7a-842a-dffe162daace"
      },
      "source": [
        "# Q1:  \n",
        "# What is the type of the variable x\n",
        "# How many characters are there in the variable x? (You need to discover a new string function to answer this!)\n",
        "x = \"Coding in python is so much fun! Python will be my new superpower!\"\n",
        "type(x) \n"
      ],
      "execution_count": null,
      "outputs": [
        {
          "output_type": "execute_result",
          "data": {
            "text/plain": [
              "str"
            ]
          },
          "metadata": {
            "tags": []
          },
          "execution_count": 2
        }
      ]
    },
    {
      "cell_type": "code",
      "metadata": {
        "id": "GZpg7jzjxzMS",
        "colab": {
          "base_uri": "https://localhost:8080/"
        },
        "outputId": "2e912eb5-1b1e-44b1-e83f-d5f903707afb"
      },
      "source": [
        "len (x)"
      ],
      "execution_count": null,
      "outputs": [
        {
          "output_type": "execute_result",
          "data": {
            "text/plain": [
              "66"
            ]
          },
          "metadata": {
            "tags": []
          },
          "execution_count": 6
        }
      ]
    },
    {
      "cell_type": "code",
      "metadata": {
        "id": "Xurjt-nzUPAt",
        "colab": {
          "base_uri": "https://localhost:8080/"
        },
        "outputId": "035fb15d-1d5b-4593-c0bc-aeba730304b1"
      },
      "source": [
        "# Q2:  Print out the variable x in all upper case\n",
        "x = \"Coding in python is so much fun! Python will be my new superpower!\"\n",
        "print (x.upper())\n",
        "\n"
      ],
      "execution_count": null,
      "outputs": [
        {
          "output_type": "stream",
          "text": [
            "CODING IN PYTHON IS SO MUCH FUN! PYTHON WILL BE MY NEW SUPERPOWER!\n"
          ],
          "name": "stdout"
        }
      ]
    },
    {
      "cell_type": "code",
      "metadata": {
        "id": "NpiDB0M7UPFH",
        "colab": {
          "base_uri": "https://localhost:8080/"
        },
        "outputId": "490f6710-401c-4649-983e-bafdc1a72216"
      },
      "source": [
        "# Q3:  Print the number of times the word python exists in the variable x.\n",
        "# HINT:  you may need to change the case to find the instances\n",
        "# Python is case sensitive.\n",
        "# You will also need to discover a new string function to answer this!\n",
        "print (x.upper())\n",
        "y = (x.upper())\n",
        "print(y.count(\"PYTHON\"))\n"
      ],
      "execution_count": null,
      "outputs": [
        {
          "output_type": "stream",
          "text": [
            "CODING IN PYTHON IS SO MUCH FUN! PYTHON WILL BE MY NEW SUPERPOWER!\n",
            "2\n"
          ],
          "name": "stdout"
        }
      ]
    },
    {
      "cell_type": "code",
      "metadata": {
        "id": "2Cv69LaAUPH8",
        "colab": {
          "base_uri": "https://localhost:8080/"
        },
        "outputId": "b7b609a9-81b2-41dc-826d-f1e7c5c5d2be"
      },
      "source": [
        "# Q4:  Are the variables y and z equal?\n",
        "y = 3\n",
        "z = 3.0\n",
        "check=y==z\n",
        "if check:\n",
        "  print(\"they are equal\")\n",
        "else:\n",
        "  print(\"they are not equal!\")\n"
      ],
      "execution_count": null,
      "outputs": [
        {
          "output_type": "stream",
          "text": [
            "they are equal\n"
          ],
          "name": "stdout"
        }
      ]
    },
    {
      "cell_type": "markdown",
      "metadata": {
        "id": "cvxXv1RrWGZr"
      },
      "source": [
        "# Question 5\n",
        "\n",
        "Below there are two blocks of code to help you get started with the last question. We will cover installing and importing modules later on, but below is a really awesome package that lets us parse news articles!"
      ]
    },
    {
      "cell_type": "code",
      "metadata": {
        "id": "6FVOaLfJUPKC",
        "colab": {
          "base_uri": "https://localhost:8080/"
        },
        "outputId": "e455a7cb-617b-4e72-dd61-e965a1593b53"
      },
      "source": [
        "# Q5 starter code 1:\n",
        "! pip install newspaper3k\n"
      ],
      "execution_count": null,
      "outputs": [
        {
          "output_type": "stream",
          "text": [
            "Requirement already satisfied: newspaper3k in /usr/local/lib/python3.7/dist-packages (0.2.8)\n",
            "Requirement already satisfied: jieba3k>=0.35.1 in /usr/local/lib/python3.7/dist-packages (from newspaper3k) (0.35.1)\n",
            "Requirement already satisfied: feedfinder2>=0.0.4 in /usr/local/lib/python3.7/dist-packages (from newspaper3k) (0.0.4)\n",
            "Requirement already satisfied: tinysegmenter==0.3 in /usr/local/lib/python3.7/dist-packages (from newspaper3k) (0.3)\n",
            "Requirement already satisfied: tldextract>=2.0.1 in /usr/local/lib/python3.7/dist-packages (from newspaper3k) (3.1.0)\n",
            "Requirement already satisfied: cssselect>=0.9.2 in /usr/local/lib/python3.7/dist-packages (from newspaper3k) (1.1.0)\n",
            "Requirement already satisfied: PyYAML>=3.11 in /usr/local/lib/python3.7/dist-packages (from newspaper3k) (3.13)\n",
            "Requirement already satisfied: requests>=2.10.0 in /usr/local/lib/python3.7/dist-packages (from newspaper3k) (2.23.0)\n",
            "Requirement already satisfied: nltk>=3.2.1 in /usr/local/lib/python3.7/dist-packages (from newspaper3k) (3.2.5)\n",
            "Requirement already satisfied: feedparser>=5.2.1 in /usr/local/lib/python3.7/dist-packages (from newspaper3k) (6.0.8)\n",
            "Requirement already satisfied: python-dateutil>=2.5.3 in /usr/local/lib/python3.7/dist-packages (from newspaper3k) (2.8.1)\n",
            "Requirement already satisfied: Pillow>=3.3.0 in /usr/local/lib/python3.7/dist-packages (from newspaper3k) (7.1.2)\n",
            "Requirement already satisfied: lxml>=3.6.0 in /usr/local/lib/python3.7/dist-packages (from newspaper3k) (4.2.6)\n",
            "Requirement already satisfied: beautifulsoup4>=4.4.1 in /usr/local/lib/python3.7/dist-packages (from newspaper3k) (4.6.3)\n",
            "Requirement already satisfied: six in /usr/local/lib/python3.7/dist-packages (from feedfinder2>=0.0.4->newspaper3k) (1.15.0)\n",
            "Requirement already satisfied: requests-file>=1.4 in /usr/local/lib/python3.7/dist-packages (from tldextract>=2.0.1->newspaper3k) (1.5.1)\n",
            "Requirement already satisfied: filelock>=3.0.8 in /usr/local/lib/python3.7/dist-packages (from tldextract>=2.0.1->newspaper3k) (3.0.12)\n",
            "Requirement already satisfied: idna in /usr/local/lib/python3.7/dist-packages (from tldextract>=2.0.1->newspaper3k) (2.10)\n",
            "Requirement already satisfied: urllib3!=1.25.0,!=1.25.1,<1.26,>=1.21.1 in /usr/local/lib/python3.7/dist-packages (from requests>=2.10.0->newspaper3k) (1.24.3)\n",
            "Requirement already satisfied: chardet<4,>=3.0.2 in /usr/local/lib/python3.7/dist-packages (from requests>=2.10.0->newspaper3k) (3.0.4)\n",
            "Requirement already satisfied: certifi>=2017.4.17 in /usr/local/lib/python3.7/dist-packages (from requests>=2.10.0->newspaper3k) (2021.5.30)\n",
            "Requirement already satisfied: sgmllib3k in /usr/local/lib/python3.7/dist-packages (from feedparser>=5.2.1->newspaper3k) (1.0.0)\n"
          ],
          "name": "stdout"
        }
      ]
    },
    {
      "cell_type": "code",
      "metadata": {
        "id": "LdxhL0AJUPMH"
      },
      "source": [
        "# Q5 starter code 2\n",
        "from newspaper import Article\n",
        "URL = \"https://www.boston.com/travel/travel/2020/09/18/logan-airport-contactless-food-delivery\"\n",
        "article = Article(URL)\n",
        "article.download()\n",
        "article.parse()\n",
        "article_text = article.text"
      ],
      "execution_count": null,
      "outputs": []
    },
    {
      "cell_type": "code",
      "metadata": {
        "id": "ZCHf2QfAN3Eb"
      },
      "source": [
        ""
      ],
      "execution_count": null,
      "outputs": []
    },
    {
      "cell_type": "code",
      "metadata": {
        "id": "LGApw9lRWSrw",
        "colab": {
          "base_uri": "https://localhost:8080/"
        },
        "outputId": "4e51c5ab-92f8-492a-e807-5ab01a99139e"
      },
      "source": [
        "# Q5A:  print the variable article_text\n",
        "print (article_text)\n",
        "\n"
      ],
      "execution_count": null,
      "outputs": [
        {
          "output_type": "stream",
          "text": [
            "Travel Logan Airport adds PPE vending machines, expands contactless food delivery American Airlines will also reopen its club lounge next month, with safety measures in place. Food being delivered at the airport by AtYourGate. MarketPlace Logan\n",
            "\n",
            "It is becoming easier for safety-conscious travelers at Logan International Airport to buy food and personal protective equipment amid the coronavirus pandemic.\n",
            "\n",
            "The airport installed PPE vending machines in July and is increasing contactless concession options through Grab and AtYourGate. In-airport app AtYourGate operates at 10 airports nationwide, including Logan, delivering food from airport restaurants such as B. GOOD, Not Your Average Joe’s, Lucca, WPizza, and more to travelers within 30 minutes. In June, AtYourGate partnered with airport e-commerce platform Grab, which means the program will expand this fall, according to Marketplace Logan.\n",
            "\n",
            "“As part of a collaboration between Grab and AtYourGate, passengers [at Logan] can now take advantage of pick-up or delivery options at their favorite eatery and select retail locations without having to download an app,” Binni Patel, marketing and customer service manager for Marketplace Logan, wrote in an e-mail. “Passengers will also be able to order from any participating location throughout the airport instead of just those available in their terminal.”\n",
            "\n",
            "Advertisement:\n",
            "\n",
            "Safety measures implemented among Logan concessions include social distancing signage, face covering requirements, contactless payment options, QR codes for restaurant menus, self-order kiosks at select eateries, plexiglass shields at registers, and more.\n",
            "\n",
            "The PPE vending machines, which offer items such masks, sanitary wipes, hand sanitizer, latex gloves, and thermometers, are located pre-security in Hudson stores and Terminals A and B.\n",
            "\n",
            "“We have made every effort to adjust and improve the Boston Logan Concessions Program to keep employees and passengers safe and healthy,” said Paul McGinn, president of MarketPlace Development, in a statement. “In collaboration with our partners at Massport we have not only made necessary adjustments but also introduced new pilot programs and technology to elevate the options available and further facilitate social distancing for our travelers.”\n",
            "\n",
            "Advertisement:\n",
            "\n",
            "Those flying with American Airlines will also notice a change in Terminal B this fall — the airline is reopening its Admirals Club lounge in October. The lounge is one of seven nationwide reopening next month and will open at 50 percent capacity, according to the airline.\n",
            "\n",
            "The lounge will offer complimentary “customer favorites” such as avocado toast and guacamole with chips served in disposable containers by employees in gloves and masks from behind protective acrylic screens, according to the airline. Travelers will also find pre-packaged cheese cubes, hummus, hard-boiled eggs, and fruit, as well as signature menu items accessible by QR code. Health and safety measures will include mandatory face coverings, glass shields, hand sanitizer stations, and more.\n",
            "\n",
            "Advertisement:\n"
          ],
          "name": "stdout"
        }
      ]
    },
    {
      "cell_type": "code",
      "metadata": {
        "id": "fSdeQQwvWUfh",
        "colab": {
          "base_uri": "https://localhost:8080/"
        },
        "outputId": "b4e28009-2056-4f72-e942-b36d9708b384"
      },
      "source": [
        "# Q5B: What is the data type for article_text?\n",
        "type(article_text)"
      ],
      "execution_count": null,
      "outputs": [
        {
          "output_type": "execute_result",
          "data": {
            "text/plain": [
              "str"
            ]
          },
          "metadata": {
            "tags": []
          },
          "execution_count": 45
        }
      ]
    },
    {
      "cell_type": "code",
      "metadata": {
        "id": "ml0rqY2TWcOE"
      },
      "source": [
        "# Q5C: Save the lower case version of article text to a new variable, article_lower\n",
        "\n",
        "article_lower= (article_text.lower())"
      ],
      "execution_count": null,
      "outputs": []
    },
    {
      "cell_type": "code",
      "metadata": {
        "id": "_9EBZHT6W9i7",
        "colab": {
          "base_uri": "https://localhost:8080/"
        },
        "outputId": "a1b0b309-2e12-4075-e71d-b17b9389477f"
      },
      "source": [
        "# Q5D: How many times does the word Logan appear in the variable article_lower?\n",
        "print(article_lower.count(\"logan\"))"
      ],
      "execution_count": null,
      "outputs": [
        {
          "output_type": "stream",
          "text": [
            "9\n"
          ],
          "name": "stdout"
        }
      ]
    },
    {
      "cell_type": "code",
      "metadata": {
        "id": "izFynTlRXD7c"
      },
      "source": [
        ""
      ],
      "execution_count": null,
      "outputs": []
    }
  ]
}