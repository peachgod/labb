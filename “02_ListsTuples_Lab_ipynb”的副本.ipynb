{
  "nbformat": 4,
  "nbformat_minor": 0,
  "metadata": {
    "colab": {
      "name": "“02-ListsTuples_Lab.ipynb”的副本",
      "private_outputs": true,
      "provenance": [],
      "collapsed_sections": [],
      "include_colab_link": true
    },
    "kernelspec": {
      "name": "python3",
      "display_name": "Python 3"
    }
  },
  "cells": [
    {
      "cell_type": "markdown",
      "metadata": {
        "id": "view-in-github",
        "colab_type": "text"
      },
      "source": [
        "<a href=\"https://colab.research.google.com/github/peachgod/labb/blob/main/%E2%80%9C02_ListsTuples_Lab_ipynb%E2%80%9D%E7%9A%84%E5%89%AF%E6%9C%AC.ipynb\" target=\"_parent\"><img src=\"https://colab.research.google.com/assets/colab-badge.svg\" alt=\"Open In Colab\"/></a>"
      ]
    },
    {
      "cell_type": "markdown",
      "metadata": {
        "id": "pE2044bBAk0X"
      },
      "source": [
        "# Lab Exercise \n",
        "\n",
        "Complete the questions below as part of the Lab exercises."
      ]
    },
    {
      "cell_type": "markdown",
      "metadata": {
        "id": "jUJXLHTeAebu"
      },
      "source": [
        "# Part 1\n",
        "\n",
        "After running the starter code, complete the questions below."
      ]
    },
    {
      "cell_type": "code",
      "metadata": {
        "id": "C-XRQaWBAvEC"
      },
      "source": [
        "# STARTER CODE 1\n",
        "! pip install newspaper3k"
      ],
      "execution_count": null,
      "outputs": []
    },
    {
      "cell_type": "code",
      "metadata": {
        "id": "E5p_iRiiA0lm"
      },
      "source": [
        "# STARTER CODE 1\n",
        "from newspaper import Article\n",
        "URL = \"https://www.boston.com/travel/travel/2020/09/16/best-apple-orchard-according-to-readers\"\n",
        "article = Article(URL)\n",
        "article.download()\n",
        "article.parse()\n",
        "article_text = article.text"
      ],
      "execution_count": null,
      "outputs": []
    },
    {
      "cell_type": "code",
      "metadata": {
        "id": "SS60gwDzQyna"
      },
      "source": [
        "# Q1: print out the article_text variable. This is the variable we will be using.\n",
        "print (article_text)"
      ],
      "execution_count": null,
      "outputs": []
    },
    {
      "cell_type": "code",
      "metadata": {
        "id": "j1dOPKBGQ16h"
      },
      "source": [
        "# Q2: how many times does the word apple appear across any case (upper or lower)?\n",
        "article_lower= (article_text.lower())\n",
        "print(article_lower.count(\"apple\"))\n"
      ],
      "execution_count": null,
      "outputs": []
    },
    {
      "cell_type": "code",
      "metadata": {
        "id": "bTtgcBkBRSQQ"
      },
      "source": [
        "# Q3: how many individual words are there?\n",
        "# TRICKY:  Look at the string methods\n",
        "# Also an opportunity to think about how you might search for help to a problem, \n",
        "# search engines are our friend.\n"
      ],
      "execution_count": null,
      "outputs": []
    },
    {
      "cell_type": "code",
      "metadata": {
        "id": "9Z1ZWCq7RjWg"
      },
      "source": [
        "# Q4:  Building on the solution above, create a list where each entry is a sentence.\n",
        "# use \".\" to define a sentence.\n",
        "print(article_lower.split('.'))"
      ],
      "execution_count": null,
      "outputs": []
    },
    {
      "cell_type": "code",
      "metadata": {
        "id": "urg7ESVPRx47"
      },
      "source": [
        "# Q5: How many characters are there in article_text\n",
        "len(article_text)"
      ],
      "execution_count": null,
      "outputs": []
    },
    {
      "cell_type": "code",
      "metadata": {
        "id": "lJcq3d8FSKuW"
      },
      "source": [
        "# Q6: subset article_text to include only the first 100 characters\n",
        "article_text[0:100]"
      ],
      "execution_count": null,
      "outputs": []
    },
    {
      "cell_type": "markdown",
      "metadata": {
        "id": "bmQBAJ9oSVvw"
      },
      "source": [
        "# Part 2"
      ]
    },
    {
      "cell_type": "code",
      "metadata": {
        "id": "NJupRYTMbRyp"
      },
      "source": [
        "# STARTER CODE SNIPPET\n",
        "\n",
        "# our list\n",
        "our_list = [1,2,3,4,5, ['a', 'b', 'c'], 6, 7, 8, 9, 10]\n"
      ],
      "execution_count": null,
      "outputs": []
    },
    {
      "cell_type": "code",
      "metadata": {
        "id": "jF-wRjq4cOtF"
      },
      "source": [
        "# Q1:  What is the length of the object/variable our_list?\n",
        "len(our_list)"
      ],
      "execution_count": null,
      "outputs": []
    },
    {
      "cell_type": "code",
      "metadata": {
        "id": "Qt63uzUicQSJ"
      },
      "source": [
        "# Q2: Append the number 11 to the end of the list\n",
        "our_list.append(11)\n",
        "print(our_list)"
      ],
      "execution_count": null,
      "outputs": []
    },
    {
      "cell_type": "code",
      "metadata": {
        "id": "Bimkvnvsd8WO"
      },
      "source": [
        "# Q3: remove the 11 you just added in Q2\n",
        "our_list.pop(11)\n",
        "print(our_list)"
      ],
      "execution_count": null,
      "outputs": []
    },
    {
      "cell_type": "code",
      "metadata": {
        "id": "sKvp0HKQeG9q"
      },
      "source": [
        "# Q4: Create a list that only contains the list of letters\n",
        "# call this variable letters\n",
        "variable_letters = ['a','e','p']"
      ],
      "execution_count": null,
      "outputs": []
    },
    {
      "cell_type": "code",
      "metadata": {
        "id": "Qv1LClXBTWX6"
      },
      "source": [
        "# reverse the variable letters\n",
        "variable_letters[::-1]\n"
      ],
      "execution_count": null,
      "outputs": []
    },
    {
      "cell_type": "code",
      "metadata": {
        "id": "5TtqX6_hTW3A"
      },
      "source": [
        ""
      ],
      "execution_count": null,
      "outputs": []
    }
  ]
}